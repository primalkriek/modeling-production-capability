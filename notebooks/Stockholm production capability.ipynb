{
 "cells": [
  {
   "cell_type": "markdown",
   "id": "909ee74a",
   "metadata": {},
   "source": [
    "# Analysis production and production loss - Stockholm facility"
   ]
  },
  {
   "cell_type": "code",
   "execution_count": null,
   "id": "33f54e19",
   "metadata": {},
   "outputs": [],
   "source": [
    "#adjust notebook size\n",
    "from IPython.display import display, HTML\n",
    "display(HTML(\"<style>.container { width:90% !important; }</style>\"))"
   ]
  },
  {
   "cell_type": "code",
   "execution_count": 11,
   "id": "6c5187dd",
   "metadata": {},
   "outputs": [],
   "source": [
    "# import some libraries to work with\n",
    "import sys\n",
    "sys.path.append('packages')\n",
    "from best_distribution import best_distribution as bd\n",
    "import json\n",
    "import os\n",
    "import pandas as pd\n",
    "import matplotlib.pyplot as plt\n",
    "from scipy.stats import norm \n",
    "import statistics\n",
    "import seaborn as sns\n",
    "import scipy.stats\n",
    "import numpy as np"
   ]
  },
  {
   "cell_type": "markdown",
   "id": "1d1c94df",
   "metadata": {},
   "source": [
    "##### retrieve the max sustainable rate ophalen from the data"
   ]
  },
  {
   "cell_type": "code",
   "execution_count": 55,
   "id": "ed8f17c9",
   "metadata": {},
   "outputs": [],
   "source": [
    "# get the max sustainable rate for Stockholm\n",
    "msr_df = pd.read_json('../data/master_data.json', typ='series')"
   ]
  },
  {
   "cell_type": "code",
   "execution_count": 54,
   "id": "c2d081e6",
   "metadata": {},
   "outputs": [
    {
     "data": {
      "text/plain": [
       "274"
      ]
     },
     "execution_count": 54,
     "metadata": {},
     "output_type": "execute_result"
    }
   ],
   "source": [
    "# store the max sustainable rate for Stockholm in a variable for later use\n",
    "msr_stockholm = msr_df['STO msr']"
   ]
  },
  {
   "cell_type": "markdown",
   "id": "d33f6c66",
   "metadata": {},
   "source": [
    "##### retrieve the data for Stockholm"
   ]
  },
  {
   "cell_type": "code",
   "execution_count": 7,
   "id": "84d0ac81",
   "metadata": {},
   "outputs": [],
   "source": [
    "# get the stockholm data \n",
    "stockholm = list()\n",
    "for bestandsnaam in os.listdir('../data/daily_production/STO/'):\n",
    "    data = pd.read_json('../data/daily_production/STO/'+bestandsnaam, typ='series')\n",
    "    row = pd.Series(data)\n",
    "    stockholm.append(row)\n",
    "    stockholm_data= pd.DataFrame(stockholm)"
   ]
  },
  {
   "cell_type": "code",
   "execution_count": 8,
   "id": "539a9a2f",
   "metadata": {},
   "outputs": [
    {
     "data": {
      "text/html": [
       "<div>\n",
       "<style scoped>\n",
       "    .dataframe tbody tr th:only-of-type {\n",
       "        vertical-align: middle;\n",
       "    }\n",
       "\n",
       "    .dataframe tbody tr th {\n",
       "        vertical-align: top;\n",
       "    }\n",
       "\n",
       "    .dataframe thead th {\n",
       "        text-align: right;\n",
       "    }\n",
       "</style>\n",
       "<table border=\"1\" class=\"dataframe\">\n",
       "  <thead>\n",
       "    <tr style=\"text-align: right;\">\n",
       "      <th></th>\n",
       "      <th>DoW</th>\n",
       "      <th>hour</th>\n",
       "      <th>minute</th>\n",
       "      <th>date</th>\n",
       "      <th>maintenance</th>\n",
       "      <th>prod_loss</th>\n",
       "      <th>prod_loss_perc</th>\n",
       "      <th>production</th>\n",
       "    </tr>\n",
       "  </thead>\n",
       "  <tbody>\n",
       "    <tr>\n",
       "      <th>0</th>\n",
       "      <td>Tuesday</td>\n",
       "      <td>1</td>\n",
       "      <td>0</td>\n",
       "      <td>09-22-2020 00:00:00.0000</td>\n",
       "      <td>No</td>\n",
       "      <td>85</td>\n",
       "      <td>31</td>\n",
       "      <td>189</td>\n",
       "    </tr>\n",
       "    <tr>\n",
       "      <th>1</th>\n",
       "      <td>Monday</td>\n",
       "      <td>1</td>\n",
       "      <td>0</td>\n",
       "      <td>01-22-2018 00:00:00.0000</td>\n",
       "      <td>No</td>\n",
       "      <td>51</td>\n",
       "      <td>19</td>\n",
       "      <td>223</td>\n",
       "    </tr>\n",
       "    <tr>\n",
       "      <th>2</th>\n",
       "      <td>Wednesday</td>\n",
       "      <td>1</td>\n",
       "      <td>0</td>\n",
       "      <td>08-21-2019 00:00:00.0000</td>\n",
       "      <td>No</td>\n",
       "      <td>110</td>\n",
       "      <td>40</td>\n",
       "      <td>164</td>\n",
       "    </tr>\n",
       "    <tr>\n",
       "      <th>3</th>\n",
       "      <td>Tuesday</td>\n",
       "      <td>1</td>\n",
       "      <td>0</td>\n",
       "      <td>08-21-2018 00:00:00.0000</td>\n",
       "      <td>Yes</td>\n",
       "      <td>#MV</td>\n",
       "      <td>#MV</td>\n",
       "      <td>#MV</td>\n",
       "    </tr>\n",
       "    <tr>\n",
       "      <th>4</th>\n",
       "      <td>Wednesday</td>\n",
       "      <td>1</td>\n",
       "      <td>0</td>\n",
       "      <td>09-22-2021 00:00:00.0000</td>\n",
       "      <td>No</td>\n",
       "      <td>134</td>\n",
       "      <td>49</td>\n",
       "      <td>140</td>\n",
       "    </tr>\n",
       "    <tr>\n",
       "      <th>...</th>\n",
       "      <td>...</td>\n",
       "      <td>...</td>\n",
       "      <td>...</td>\n",
       "      <td>...</td>\n",
       "      <td>...</td>\n",
       "      <td>...</td>\n",
       "      <td>...</td>\n",
       "      <td>...</td>\n",
       "    </tr>\n",
       "    <tr>\n",
       "      <th>1825</th>\n",
       "      <td>Friday</td>\n",
       "      <td>1</td>\n",
       "      <td>0</td>\n",
       "      <td>07-29-2022 00:00:00.0000</td>\n",
       "      <td>No</td>\n",
       "      <td>274</td>\n",
       "      <td>100</td>\n",
       "      <td>0</td>\n",
       "    </tr>\n",
       "    <tr>\n",
       "      <th>1826</th>\n",
       "      <td>Monday</td>\n",
       "      <td>1</td>\n",
       "      <td>0</td>\n",
       "      <td>07-20-2020 00:00:00.0000</td>\n",
       "      <td>No</td>\n",
       "      <td>81</td>\n",
       "      <td>29</td>\n",
       "      <td>193</td>\n",
       "    </tr>\n",
       "    <tr>\n",
       "      <th>1827</th>\n",
       "      <td>Sunday</td>\n",
       "      <td>1</td>\n",
       "      <td>0</td>\n",
       "      <td>06-23-2019 00:00:00.0000</td>\n",
       "      <td>No</td>\n",
       "      <td>72</td>\n",
       "      <td>26</td>\n",
       "      <td>202</td>\n",
       "    </tr>\n",
       "    <tr>\n",
       "      <th>1828</th>\n",
       "      <td>Saturday</td>\n",
       "      <td>1</td>\n",
       "      <td>0</td>\n",
       "      <td>06-23-2018 00:00:00.0000</td>\n",
       "      <td>No</td>\n",
       "      <td>77</td>\n",
       "      <td>28</td>\n",
       "      <td>197</td>\n",
       "    </tr>\n",
       "    <tr>\n",
       "      <th>1829</th>\n",
       "      <td>Tuesday</td>\n",
       "      <td>1</td>\n",
       "      <td>0</td>\n",
       "      <td>07-20-2021 00:00:00.0000</td>\n",
       "      <td>Yes</td>\n",
       "      <td>#MV</td>\n",
       "      <td>#MV</td>\n",
       "      <td>#MV</td>\n",
       "    </tr>\n",
       "  </tbody>\n",
       "</table>\n",
       "<p>1830 rows × 8 columns</p>\n",
       "</div>"
      ],
      "text/plain": [
       "            DoW  hour  minute                      date maintenance prod_loss  \\\n",
       "0       Tuesday     1       0  09-22-2020 00:00:00.0000          No        85   \n",
       "1        Monday     1       0  01-22-2018 00:00:00.0000          No        51   \n",
       "2     Wednesday     1       0  08-21-2019 00:00:00.0000          No       110   \n",
       "3       Tuesday     1       0  08-21-2018 00:00:00.0000         Yes       #MV   \n",
       "4     Wednesday     1       0  09-22-2021 00:00:00.0000          No       134   \n",
       "...         ...   ...     ...                       ...         ...       ...   \n",
       "1825     Friday     1       0  07-29-2022 00:00:00.0000          No       274   \n",
       "1826     Monday     1       0  07-20-2020 00:00:00.0000          No        81   \n",
       "1827     Sunday     1       0  06-23-2019 00:00:00.0000          No        72   \n",
       "1828   Saturday     1       0  06-23-2018 00:00:00.0000          No        77   \n",
       "1829    Tuesday     1       0  07-20-2021 00:00:00.0000         Yes       #MV   \n",
       "\n",
       "     prod_loss_perc production  \n",
       "0                31        189  \n",
       "1                19        223  \n",
       "2                40        164  \n",
       "3               #MV        #MV  \n",
       "4                49        140  \n",
       "...             ...        ...  \n",
       "1825            100          0  \n",
       "1826             29        193  \n",
       "1827             26        202  \n",
       "1828             28        197  \n",
       "1829            #MV        #MV  \n",
       "\n",
       "[1830 rows x 8 columns]"
      ]
     },
     "execution_count": 8,
     "metadata": {},
     "output_type": "execute_result"
    }
   ],
   "source": [
    "# short check if this is the data that we can work with\n",
    "stockholm_data"
   ]
  },
  {
   "cell_type": "code",
   "execution_count": 12,
   "id": "f4ab03b2",
   "metadata": {},
   "outputs": [],
   "source": [
    "# derrive a new variable from the panda dataframe\n",
    "stockholm_data_nulls = stockholm_data"
   ]
  },
  {
   "cell_type": "markdown",
   "id": "c96cbd06",
   "metadata": {},
   "source": [
    "##### check for null values and where they orginate from\n",
    "\n",
    "- observation 1: in Stockholm, as in Brussels there is no #MV when there is no maintenance.\n",
    "    - Meaning that when there is no maintenance, there is always production or production loss data.\n",
    "- observation 2: we have no data if the maintenance is scheduled or not, we only notice that there is no data on days marked with maintenance 'yes'\n",
    "    - we can determine for certain that in Stockholm there is no other recording than at hour 1 of the day there is no registration of maintenance on other timestamps"
   ]
  },
  {
   "cell_type": "code",
   "execution_count": 26,
   "id": "a62200bc",
   "metadata": {},
   "outputs": [
    {
     "data": {
      "text/plain": [
       "DoW                                Tuesday\n",
       "hour                                     1\n",
       "minute                                   0\n",
       "date              08-21-2018 00:00:00.0000\n",
       "maintenance                            Yes\n",
       "prod_loss                              #MV\n",
       "prod_loss_perc                         #MV\n",
       "production                             #MV\n",
       "Name: 3, dtype: object"
      ]
     },
     "metadata": {},
     "output_type": "display_data"
    },
    {
     "data": {
      "text/plain": [
       "DoW                                 Monday\n",
       "hour                                     1\n",
       "minute                                   0\n",
       "date              07-19-2021 00:00:00.0000\n",
       "maintenance                            Yes\n",
       "prod_loss                              #MV\n",
       "prod_loss_perc                         #MV\n",
       "production                             #MV\n",
       "Name: 39, dtype: object"
      ]
     },
     "metadata": {},
     "output_type": "display_data"
    },
    {
     "data": {
      "text/plain": [
       "DoW                                 Monday\n",
       "hour                                     1\n",
       "minute                                   0\n",
       "date              07-08-2019 00:00:00.0000\n",
       "maintenance                            Yes\n",
       "prod_loss                              #MV\n",
       "prod_loss_perc                         #MV\n",
       "production                             #MV\n",
       "Name: 52, dtype: object"
      ]
     },
     "metadata": {},
     "output_type": "display_data"
    },
    {
     "data": {
      "text/plain": [
       "DoW                              Wednesday\n",
       "hour                                     1\n",
       "minute                                   0\n",
       "date              08-03-2022 00:00:00.0000\n",
       "maintenance                            Yes\n",
       "prod_loss                              #MV\n",
       "prod_loss_perc                         #MV\n",
       "production                             #MV\n",
       "Name: 61, dtype: object"
      ]
     },
     "metadata": {},
     "output_type": "display_data"
    },
    {
     "data": {
      "text/plain": [
       "DoW                                 Monday\n",
       "hour                                     1\n",
       "minute                                   0\n",
       "date              08-15-2022 00:00:00.0000\n",
       "maintenance                            Yes\n",
       "prod_loss                              #MV\n",
       "prod_loss_perc                         #MV\n",
       "production                             #MV\n",
       "Name: 98, dtype: object"
      ]
     },
     "metadata": {},
     "output_type": "display_data"
    },
    {
     "data": {
      "text/plain": [
       "DoW                                 Friday\n",
       "hour                                     1\n",
       "minute                                   0\n",
       "date              07-23-2021 00:00:00.0000\n",
       "maintenance                            Yes\n",
       "prod_loss                              #MV\n",
       "prod_loss_perc                         #MV\n",
       "production                             #MV\n",
       "Name: 100, dtype: object"
      ]
     },
     "metadata": {},
     "output_type": "display_data"
    },
    {
     "data": {
      "text/plain": [
       "DoW                                 Friday\n",
       "hour                                     1\n",
       "minute                                   0\n",
       "date              07-12-2019 00:00:00.0000\n",
       "maintenance                            Yes\n",
       "prod_loss                              #MV\n",
       "prod_loss_perc                         #MV\n",
       "production                             #MV\n",
       "Name: 110, dtype: object"
      ]
     },
     "metadata": {},
     "output_type": "display_data"
    },
    {
     "data": {
      "text/plain": [
       "DoW                               Thursday\n",
       "hour                                     1\n",
       "minute                                   0\n",
       "date              07-15-2021 00:00:00.0000\n",
       "maintenance                            Yes\n",
       "prod_loss                              #MV\n",
       "prod_loss_perc                         #MV\n",
       "production                             #MV\n",
       "Name: 139, dtype: object"
      ]
     },
     "metadata": {},
     "output_type": "display_data"
    },
    {
     "data": {
      "text/plain": [
       "DoW                                Tuesday\n",
       "hour                                     1\n",
       "minute                                   0\n",
       "date              08-23-2022 00:00:00.0000\n",
       "maintenance                            Yes\n",
       "prod_loss                              #MV\n",
       "prod_loss_perc                         #MV\n",
       "production                             #MV\n",
       "Name: 143, dtype: object"
      ]
     },
     "metadata": {},
     "output_type": "display_data"
    },
    {
     "data": {
      "text/plain": [
       "DoW                               Thursday\n",
       "hour                                     1\n",
       "minute                                   0\n",
       "date              07-04-2019 00:00:00.0000\n",
       "maintenance                            Yes\n",
       "prod_loss                              #MV\n",
       "prod_loss_perc                         #MV\n",
       "production                             #MV\n",
       "Name: 150, dtype: object"
      ]
     },
     "metadata": {},
     "output_type": "display_data"
    },
    {
     "data": {
      "text/plain": [
       "DoW                                 Friday\n",
       "hour                                     1\n",
       "minute                                   0\n",
       "date              08-06-2021 00:00:00.0000\n",
       "maintenance                            Yes\n",
       "prod_loss                              #MV\n",
       "prod_loss_perc                         #MV\n",
       "production                             #MV\n",
       "Name: 169, dtype: object"
      ]
     },
     "metadata": {},
     "output_type": "display_data"
    },
    {
     "data": {
      "text/plain": [
       "DoW                               Thursday\n",
       "hour                                     1\n",
       "minute                                   0\n",
       "date              08-06-2020 00:00:00.0000\n",
       "maintenance                            Yes\n",
       "prod_loss                              #MV\n",
       "prod_loss_perc                         #MV\n",
       "production                             #MV\n",
       "Name: 175, dtype: object"
      ]
     },
     "metadata": {},
     "output_type": "display_data"
    },
    {
     "data": {
      "text/plain": [
       "DoW                                 Friday\n",
       "hour                                     1\n",
       "minute                                   0\n",
       "date              08-17-2018 00:00:00.0000\n",
       "maintenance                            Yes\n",
       "prod_loss                              #MV\n",
       "prod_loss_perc                         #MV\n",
       "production                             #MV\n",
       "Name: 193, dtype: object"
      ]
     },
     "metadata": {},
     "output_type": "display_data"
    },
    {
     "data": {
      "text/plain": [
       "DoW                                 Monday\n",
       "hour                                     1\n",
       "minute                                   0\n",
       "date              08-10-2020 00:00:00.0000\n",
       "maintenance                            Yes\n",
       "prod_loss                              #MV\n",
       "prod_loss_perc                         #MV\n",
       "production                             #MV\n",
       "Name: 214, dtype: object"
      ]
     },
     "metadata": {},
     "output_type": "display_data"
    },
    {
     "data": {
      "text/plain": [
       "DoW                                 Friday\n",
       "hour                                     1\n",
       "minute                                   0\n",
       "date              08-19-2022 00:00:00.0000\n",
       "maintenance                            Yes\n",
       "prod_loss                              #MV\n",
       "prod_loss_perc                         #MV\n",
       "production                             #MV\n",
       "Name: 220, dtype: object"
      ]
     },
     "metadata": {},
     "output_type": "display_data"
    },
    {
     "data": {
      "text/plain": [
       "DoW                                Tuesday\n",
       "hour                                     1\n",
       "minute                                   0\n",
       "date              08-11-2020 00:00:00.0000\n",
       "maintenance                            Yes\n",
       "prod_loss                              #MV\n",
       "prod_loss_perc                         #MV\n",
       "production                             #MV\n",
       "Name: 227, dtype: object"
      ]
     },
     "metadata": {},
     "output_type": "display_data"
    },
    {
     "data": {
      "text/plain": [
       "DoW                               Thursday\n",
       "hour                                     1\n",
       "minute                                   0\n",
       "date              08-18-2022 00:00:00.0000\n",
       "maintenance                            Yes\n",
       "prod_loss                              #MV\n",
       "prod_loss_perc                         #MV\n",
       "production                             #MV\n",
       "Name: 233, dtype: object"
      ]
     },
     "metadata": {},
     "output_type": "display_data"
    },
    {
     "data": {
      "text/plain": [
       "DoW                               Thursday\n",
       "hour                                     1\n",
       "minute                                   0\n",
       "date              08-16-2018 00:00:00.0000\n",
       "maintenance                            Yes\n",
       "prod_loss                              #MV\n",
       "prod_loss_perc                         #MV\n",
       "production                             #MV\n",
       "Name: 261, dtype: object"
      ]
     },
     "metadata": {},
     "output_type": "display_data"
    },
    {
     "data": {
      "text/plain": [
       "DoW                                 Friday\n",
       "hour                                     1\n",
       "minute                                   0\n",
       "date              08-07-2020 00:00:00.0000\n",
       "maintenance                            Yes\n",
       "prod_loss                              #MV\n",
       "prod_loss_perc                         #MV\n",
       "production                             #MV\n",
       "Name: 275, dtype: object"
      ]
     },
     "metadata": {},
     "output_type": "display_data"
    },
    {
     "data": {
      "text/plain": [
       "DoW                                 Friday\n",
       "hour                                     1\n",
       "minute                                   0\n",
       "date              07-05-2019 00:00:00.0000\n",
       "maintenance                            Yes\n",
       "prod_loss                              #MV\n",
       "prod_loss_perc                         #MV\n",
       "production                             #MV\n",
       "Name: 288, dtype: object"
      ]
     },
     "metadata": {},
     "output_type": "display_data"
    },
    {
     "data": {
      "text/plain": [
       "DoW                                 Monday\n",
       "hour                                     1\n",
       "minute                                   0\n",
       "date              08-22-2022 00:00:00.0000\n",
       "maintenance                            Yes\n",
       "prod_loss                              #MV\n",
       "prod_loss_perc                         #MV\n",
       "production                             #MV\n",
       "Name: 299, dtype: object"
      ]
     },
     "metadata": {},
     "output_type": "display_data"
    },
    {
     "data": {
      "text/plain": [
       "DoW                              Wednesday\n",
       "hour                                     1\n",
       "minute                                   0\n",
       "date              07-14-2021 00:00:00.0000\n",
       "maintenance                            Yes\n",
       "prod_loss                              #MV\n",
       "prod_loss_perc                         #MV\n",
       "production                             #MV\n",
       "Name: 314, dtype: object"
      ]
     },
     "metadata": {},
     "output_type": "display_data"
    },
    {
     "data": {
      "text/plain": [
       "DoW                               Saturday\n",
       "hour                                     1\n",
       "minute                                   0\n",
       "date              07-13-2019 00:00:00.0000\n",
       "maintenance                            Yes\n",
       "prod_loss                              #MV\n",
       "prod_loss_perc                         #MV\n",
       "production                             #MV\n",
       "Name: 342, dtype: object"
      ]
     },
     "metadata": {},
     "output_type": "display_data"
    },
    {
     "data": {
      "text/plain": [
       "DoW                               Thursday\n",
       "hour                                     1\n",
       "minute                                   0\n",
       "date              07-22-2021 00:00:00.0000\n",
       "maintenance                            Yes\n",
       "prod_loss                              #MV\n",
       "prod_loss_perc                         #MV\n",
       "production                             #MV\n",
       "Name: 352, dtype: object"
      ]
     },
     "metadata": {},
     "output_type": "display_data"
    },
    {
     "data": {
      "text/plain": [
       "DoW                                 Sunday\n",
       "hour                                     1\n",
       "minute                                   0\n",
       "date              08-14-2022 00:00:00.0000\n",
       "maintenance                            Yes\n",
       "prod_loss                              #MV\n",
       "prod_loss_perc                         #MV\n",
       "production                             #MV\n",
       "Name: 361, dtype: object"
      ]
     },
     "metadata": {},
     "output_type": "display_data"
    },
    {
     "data": {
      "text/plain": [
       "DoW                                Tuesday\n",
       "hour                                     1\n",
       "minute                                   0\n",
       "date              08-02-2022 00:00:00.0000\n",
       "maintenance                            Yes\n",
       "prod_loss                              #MV\n",
       "prod_loss_perc                         #MV\n",
       "production                             #MV\n",
       "Name: 403, dtype: object"
      ]
     },
     "metadata": {},
     "output_type": "display_data"
    },
    {
     "data": {
      "text/plain": [
       "DoW                                Tuesday\n",
       "hour                                     1\n",
       "minute                                   0\n",
       "date              07-09-2019 00:00:00.0000\n",
       "maintenance                            Yes\n",
       "prod_loss                              #MV\n",
       "prod_loss_perc                         #MV\n",
       "production                             #MV\n",
       "Name: 409, dtype: object"
      ]
     },
     "metadata": {},
     "output_type": "display_data"
    },
    {
     "data": {
      "text/plain": [
       "DoW                                 Sunday\n",
       "hour                                     1\n",
       "minute                                   0\n",
       "date              07-18-2021 00:00:00.0000\n",
       "maintenance                            Yes\n",
       "prod_loss                              #MV\n",
       "prod_loss_perc                         #MV\n",
       "production                             #MV\n",
       "Name: 421, dtype: object"
      ]
     },
     "metadata": {},
     "output_type": "display_data"
    },
    {
     "data": {
      "text/plain": [
       "DoW                                 Monday\n",
       "hour                                     1\n",
       "minute                                   0\n",
       "date              08-20-2018 00:00:00.0000\n",
       "maintenance                            Yes\n",
       "prod_loss                              #MV\n",
       "prod_loss_perc                         #MV\n",
       "production                             #MV\n",
       "Name: 451, dtype: object"
      ]
     },
     "metadata": {},
     "output_type": "display_data"
    },
    {
     "data": {
      "text/plain": [
       "DoW                                 Sunday\n",
       "hour                                     1\n",
       "minute                                   0\n",
       "date              07-14-2019 00:00:00.0000\n",
       "maintenance                            Yes\n",
       "prod_loss                              #MV\n",
       "prod_loss_perc                         #MV\n",
       "production                             #MV\n",
       "Name: 457, dtype: object"
      ]
     },
     "metadata": {},
     "output_type": "display_data"
    },
    {
     "data": {
      "text/plain": [
       "DoW                                Tuesday\n",
       "hour                                     1\n",
       "minute                                   0\n",
       "date              07-13-2021 00:00:00.0000\n",
       "maintenance                            Yes\n",
       "prod_loss                              #MV\n",
       "prod_loss_perc                         #MV\n",
       "production                             #MV\n",
       "Name: 495, dtype: object"
      ]
     },
     "metadata": {},
     "output_type": "display_data"
    },
    {
     "data": {
      "text/plain": [
       "DoW                               Thursday\n",
       "hour                                     1\n",
       "minute                                   0\n",
       "date              08-25-2022 00:00:00.0000\n",
       "maintenance                            Yes\n",
       "prod_loss                              #MV\n",
       "prod_loss_perc                         #MV\n",
       "production                             #MV\n",
       "Name: 501, dtype: object"
      ]
     },
     "metadata": {},
     "output_type": "display_data"
    },
    {
     "data": {
      "text/plain": [
       "DoW                                Tuesday\n",
       "hour                                     1\n",
       "minute                                   0\n",
       "date              07-02-2019 00:00:00.0000\n",
       "maintenance                            Yes\n",
       "prod_loss                              #MV\n",
       "prod_loss_perc                         #MV\n",
       "production                             #MV\n",
       "Name: 509, dtype: object"
      ]
     },
     "metadata": {},
     "output_type": "display_data"
    },
    {
     "data": {
      "text/plain": [
       "DoW                                Tuesday\n",
       "hour                                     1\n",
       "minute                                   0\n",
       "date              08-09-2022 00:00:00.0000\n",
       "maintenance                            Yes\n",
       "prod_loss                              #MV\n",
       "prod_loss_perc                         #MV\n",
       "production                             #MV\n",
       "Name: 531, dtype: object"
      ]
     },
     "metadata": {},
     "output_type": "display_data"
    },
    {
     "data": {
      "text/plain": [
       "DoW                               Saturday\n",
       "hour                                     1\n",
       "minute                                   0\n",
       "date              08-11-2018 00:00:00.0000\n",
       "maintenance                            Yes\n",
       "prod_loss                              #MV\n",
       "prod_loss_perc                         #MV\n",
       "production                             #MV\n",
       "Name: 546, dtype: object"
      ]
     },
     "metadata": {},
     "output_type": "display_data"
    },
    {
     "data": {
      "text/plain": [
       "DoW                                Tuesday\n",
       "hour                                     1\n",
       "minute                                   0\n",
       "date              08-07-2018 00:00:00.0000\n",
       "maintenance                            Yes\n",
       "prod_loss                              #MV\n",
       "prod_loss_perc                         #MV\n",
       "production                             #MV\n",
       "Name: 559, dtype: object"
      ]
     },
     "metadata": {},
     "output_type": "display_data"
    },
    {
     "data": {
      "text/plain": [
       "DoW                               Thursday\n",
       "hour                                     1\n",
       "minute                                   0\n",
       "date              07-29-2021 00:00:00.0000\n",
       "maintenance                            Yes\n",
       "prod_loss                              #MV\n",
       "prod_loss_perc                         #MV\n",
       "production                             #MV\n",
       "Name: 563, dtype: object"
      ]
     },
     "metadata": {},
     "output_type": "display_data"
    },
    {
     "data": {
      "text/plain": [
       "DoW                              Wednesday\n",
       "hour                                     1\n",
       "minute                                   0\n",
       "date              07-29-2020 00:00:00.0000\n",
       "maintenance                            Yes\n",
       "prod_loss                              #MV\n",
       "prod_loss_perc                         #MV\n",
       "production                             #MV\n",
       "Name: 564, dtype: object"
      ]
     },
     "metadata": {},
     "output_type": "display_data"
    },
    {
     "data": {
      "text/plain": [
       "DoW                                 Sunday\n",
       "hour                                     1\n",
       "minute                                   0\n",
       "date              08-16-2020 00:00:00.0000\n",
       "maintenance                            Yes\n",
       "prod_loss                              #MV\n",
       "prod_loss_perc                         #MV\n",
       "production                             #MV\n",
       "Name: 572, dtype: object"
      ]
     },
     "metadata": {},
     "output_type": "display_data"
    },
    {
     "data": {
      "text/plain": [
       "DoW                               Thursday\n",
       "hour                                     1\n",
       "minute                                   0\n",
       "date              07-18-2019 00:00:00.0000\n",
       "maintenance                            Yes\n",
       "prod_loss                              #MV\n",
       "prod_loss_perc                         #MV\n",
       "production                             #MV\n",
       "Name: 590, dtype: object"
      ]
     },
     "metadata": {},
     "output_type": "display_data"
    },
    {
     "data": {
      "text/plain": [
       "DoW                                 Friday\n",
       "hour                                     1\n",
       "minute                                   0\n",
       "date              08-05-2022 00:00:00.0000\n",
       "maintenance                            Yes\n",
       "prod_loss                              #MV\n",
       "prod_loss_perc                         #MV\n",
       "production                             #MV\n",
       "Name: 635, dtype: object"
      ]
     },
     "metadata": {},
     "output_type": "display_data"
    },
    {
     "data": {
      "text/plain": [
       "DoW                               Saturday\n",
       "hour                                     1\n",
       "minute                                   0\n",
       "date              08-13-2022 00:00:00.0000\n",
       "maintenance                            Yes\n",
       "prod_loss                              #MV\n",
       "prod_loss_perc                         #MV\n",
       "production                             #MV\n",
       "Name: 678, dtype: object"
      ]
     },
     "metadata": {},
     "output_type": "display_data"
    },
    {
     "data": {
      "text/plain": [
       "DoW                                 Sunday\n",
       "hour                                     1\n",
       "minute                                   0\n",
       "date              07-25-2021 00:00:00.0000\n",
       "maintenance                            Yes\n",
       "prod_loss                              #MV\n",
       "prod_loss_perc                         #MV\n",
       "production                             #MV\n",
       "Name: 682, dtype: object"
      ]
     },
     "metadata": {},
     "output_type": "display_data"
    },
    {
     "data": {
      "text/plain": [
       "DoW                               Saturday\n",
       "hour                                     1\n",
       "minute                                   0\n",
       "date              07-24-2021 00:00:00.0000\n",
       "maintenance                            Yes\n",
       "prod_loss                              #MV\n",
       "prod_loss_perc                         #MV\n",
       "production                             #MV\n",
       "Name: 686, dtype: object"
      ]
     },
     "metadata": {},
     "output_type": "display_data"
    },
    {
     "data": {
      "text/plain": [
       "DoW                                 Friday\n",
       "hour                                     1\n",
       "minute                                   0\n",
       "date              08-12-2022 00:00:00.0000\n",
       "maintenance                            Yes\n",
       "prod_loss                              #MV\n",
       "prod_loss_perc                         #MV\n",
       "production                             #MV\n",
       "Name: 694, dtype: object"
      ]
     },
     "metadata": {},
     "output_type": "display_data"
    },
    {
     "data": {
      "text/plain": [
       "DoW                               Thursday\n",
       "hour                                     1\n",
       "minute                                   0\n",
       "date              08-04-2022 00:00:00.0000\n",
       "maintenance                            Yes\n",
       "prod_loss                              #MV\n",
       "prod_loss_perc                         #MV\n",
       "production                             #MV\n",
       "Name: 731, dtype: object"
      ]
     },
     "metadata": {},
     "output_type": "display_data"
    },
    {
     "data": {
      "text/plain": [
       "DoW                                 Sunday\n",
       "hour                                     1\n",
       "minute                                   0\n",
       "date              08-28-2022 00:00:00.0000\n",
       "maintenance                            Yes\n",
       "prod_loss                              #MV\n",
       "prod_loss_perc                         #MV\n",
       "production                             #MV\n",
       "Name: 750, dtype: object"
      ]
     },
     "metadata": {},
     "output_type": "display_data"
    },
    {
     "data": {
      "text/plain": [
       "DoW                                 Friday\n",
       "hour                                     1\n",
       "minute                                   0\n",
       "date              07-19-2019 00:00:00.0000\n",
       "maintenance                            Yes\n",
       "prod_loss                              #MV\n",
       "prod_loss_perc                         #MV\n",
       "production                             #MV\n",
       "Name: 776, dtype: object"
      ]
     },
     "metadata": {},
     "output_type": "display_data"
    },
    {
     "data": {
      "text/plain": [
       "DoW                                 Sunday\n",
       "hour                                     1\n",
       "minute                                   0\n",
       "date              08-26-2018 00:00:00.0000\n",
       "maintenance                            Yes\n",
       "prod_loss                              #MV\n",
       "prod_loss_perc                         #MV\n",
       "production                             #MV\n",
       "Name: 781, dtype: object"
      ]
     },
     "metadata": {},
     "output_type": "display_data"
    },
    {
     "data": {
      "text/plain": [
       "DoW                              Wednesday\n",
       "hour                                     1\n",
       "minute                                   0\n",
       "date              07-28-2021 00:00:00.0000\n",
       "maintenance                            Yes\n",
       "prod_loss                              #MV\n",
       "prod_loss_perc                         #MV\n",
       "production                             #MV\n",
       "Name: 803, dtype: object"
      ]
     },
     "metadata": {},
     "output_type": "display_data"
    },
    {
     "data": {
      "text/plain": [
       "DoW                                 Monday\n",
       "hour                                     1\n",
       "minute                                   0\n",
       "date              08-06-2018 00:00:00.0000\n",
       "maintenance                            Yes\n",
       "prod_loss                              #MV\n",
       "prod_loss_perc                         #MV\n",
       "production                             #MV\n",
       "Name: 815, dtype: object"
      ]
     },
     "metadata": {},
     "output_type": "display_data"
    },
    {
     "data": {
      "text/plain": [
       "DoW                                 Friday\n",
       "hour                                     1\n",
       "minute                                   0\n",
       "date              08-10-2018 00:00:00.0000\n",
       "maintenance                            Yes\n",
       "prod_loss                              #MV\n",
       "prod_loss_perc                         #MV\n",
       "production                             #MV\n",
       "Name: 832, dtype: object"
      ]
     },
     "metadata": {},
     "output_type": "display_data"
    },
    {
     "data": {
      "text/plain": [
       "DoW                               Saturday\n",
       "hour                                     1\n",
       "minute                                   0\n",
       "date              08-01-2020 00:00:00.0000\n",
       "maintenance                            Yes\n",
       "prod_loss                              #MV\n",
       "prod_loss_perc                         #MV\n",
       "production                             #MV\n",
       "Name: 837, dtype: object"
      ]
     },
     "metadata": {},
     "output_type": "display_data"
    },
    {
     "data": {
      "text/plain": [
       "DoW                                 Sunday\n",
       "hour                                     1\n",
       "minute                                   0\n",
       "date              08-01-2021 00:00:00.0000\n",
       "maintenance                            Yes\n",
       "prod_loss                              #MV\n",
       "prod_loss_perc                         #MV\n",
       "production                             #MV\n",
       "Name: 842, dtype: object"
      ]
     },
     "metadata": {},
     "output_type": "display_data"
    },
    {
     "data": {
      "text/plain": [
       "DoW                                 Monday\n",
       "hour                                     1\n",
       "minute                                   0\n",
       "date              08-08-2022 00:00:00.0000\n",
       "maintenance                            Yes\n",
       "prod_loss                              #MV\n",
       "prod_loss_perc                         #MV\n",
       "production                             #MV\n",
       "Name: 846, dtype: object"
      ]
     },
     "metadata": {},
     "output_type": "display_data"
    },
    {
     "data": {
      "text/plain": [
       "DoW                              Wednesday\n",
       "hour                                     1\n",
       "minute                                   0\n",
       "date              07-03-2019 00:00:00.0000\n",
       "maintenance                            Yes\n",
       "prod_loss                              #MV\n",
       "prod_loss_perc                         #MV\n",
       "production                             #MV\n",
       "Name: 862, dtype: object"
      ]
     },
     "metadata": {},
     "output_type": "display_data"
    },
    {
     "data": {
      "text/plain": [
       "DoW                              Wednesday\n",
       "hour                                     1\n",
       "minute                                   0\n",
       "date              08-24-2022 00:00:00.0000\n",
       "maintenance                            Yes\n",
       "prod_loss                              #MV\n",
       "prod_loss_perc                         #MV\n",
       "production                             #MV\n",
       "Name: 870, dtype: object"
      ]
     },
     "metadata": {},
     "output_type": "display_data"
    },
    {
     "data": {
      "text/plain": [
       "DoW                                 Monday\n",
       "hour                                     1\n",
       "minute                                   0\n",
       "date              07-15-2019 00:00:00.0000\n",
       "maintenance                            Yes\n",
       "prod_loss                              #MV\n",
       "prod_loss_perc                         #MV\n",
       "production                             #MV\n",
       "Name: 902, dtype: object"
      ]
     },
     "metadata": {},
     "output_type": "display_data"
    },
    {
     "data": {
      "text/plain": [
       "DoW                                 Friday\n",
       "hour                                     1\n",
       "minute                                   0\n",
       "date              08-14-2020 00:00:00.0000\n",
       "maintenance                            Yes\n",
       "prod_loss                              #MV\n",
       "prod_loss_perc                         #MV\n",
       "production                             #MV\n",
       "Name: 920, dtype: object"
      ]
     },
     "metadata": {},
     "output_type": "display_data"
    },
    {
     "data": {
      "text/plain": [
       "DoW                                 Sunday\n",
       "hour                                     1\n",
       "minute                                   0\n",
       "date              08-05-2018 00:00:00.0000\n",
       "maintenance                            Yes\n",
       "prod_loss                              #MV\n",
       "prod_loss_perc                         #MV\n",
       "production                             #MV\n",
       "Name: 933, dtype: object"
      ]
     },
     "metadata": {},
     "output_type": "display_data"
    },
    {
     "data": {
      "text/plain": [
       "DoW                                 Monday\n",
       "hour                                     1\n",
       "minute                                   0\n",
       "date              08-13-2018 00:00:00.0000\n",
       "maintenance                            Yes\n",
       "prod_loss                              #MV\n",
       "prod_loss_perc                         #MV\n",
       "production                             #MV\n",
       "Name: 945, dtype: object"
      ]
     },
     "metadata": {},
     "output_type": "display_data"
    },
    {
     "data": {
      "text/plain": [
       "DoW                                 Monday\n",
       "hour                                     1\n",
       "minute                                   0\n",
       "date              08-02-2021 00:00:00.0000\n",
       "maintenance                            Yes\n",
       "prod_loss                              #MV\n",
       "prod_loss_perc                         #MV\n",
       "production                             #MV\n",
       "Name: 968, dtype: object"
      ]
     },
     "metadata": {},
     "output_type": "display_data"
    },
    {
     "data": {
      "text/plain": [
       "DoW                                 Sunday\n",
       "hour                                     1\n",
       "minute                                   0\n",
       "date              08-02-2020 00:00:00.0000\n",
       "maintenance                            Yes\n",
       "prod_loss                              #MV\n",
       "prod_loss_perc                         #MV\n",
       "production                             #MV\n",
       "Name: 969, dtype: object"
      ]
     },
     "metadata": {},
     "output_type": "display_data"
    },
    {
     "data": {
      "text/plain": [
       "DoW                               Saturday\n",
       "hour                                     1\n",
       "minute                                   0\n",
       "date              08-27-2022 00:00:00.0000\n",
       "maintenance                            Yes\n",
       "prod_loss                              #MV\n",
       "prod_loss_perc                         #MV\n",
       "production                             #MV\n",
       "Name: 990, dtype: object"
      ]
     },
     "metadata": {},
     "output_type": "display_data"
    },
    {
     "data": {
      "text/plain": [
       "DoW                                Tuesday\n",
       "hour                                     1\n",
       "minute                                   0\n",
       "date              07-16-2019 00:00:00.0000\n",
       "maintenance                            Yes\n",
       "prod_loss                              #MV\n",
       "prod_loss_perc                         #MV\n",
       "production                             #MV\n",
       "Name: 1030, dtype: object"
      ]
     },
     "metadata": {},
     "output_type": "display_data"
    },
    {
     "data": {
      "text/plain": [
       "DoW                                Tuesday\n",
       "hour                                     1\n",
       "minute                                   0\n",
       "date              07-27-2021 00:00:00.0000\n",
       "maintenance                            Yes\n",
       "prod_loss                              #MV\n",
       "prod_loss_perc                         #MV\n",
       "production                             #MV\n",
       "Name: 1036, dtype: object"
      ]
     },
     "metadata": {},
     "output_type": "display_data"
    },
    {
     "data": {
      "text/plain": [
       "DoW                               Thursday\n",
       "hour                                     1\n",
       "minute                                   0\n",
       "date              08-11-2022 00:00:00.0000\n",
       "maintenance                            Yes\n",
       "prod_loss                              #MV\n",
       "prod_loss_perc                         #MV\n",
       "production                             #MV\n",
       "Name: 1041, dtype: object"
      ]
     },
     "metadata": {},
     "output_type": "display_data"
    },
    {
     "data": {
      "text/plain": [
       "DoW                               Thursday\n",
       "hour                                     1\n",
       "minute                                   0\n",
       "date              08-09-2018 00:00:00.0000\n",
       "maintenance                            Yes\n",
       "prod_loss                              #MV\n",
       "prod_loss_perc                         #MV\n",
       "production                             #MV\n",
       "Name: 1055, dtype: object"
      ]
     },
     "metadata": {},
     "output_type": "display_data"
    },
    {
     "data": {
      "text/plain": [
       "DoW                               Saturday\n",
       "hour                                     1\n",
       "minute                                   0\n",
       "date              07-20-2019 00:00:00.0000\n",
       "maintenance                            Yes\n",
       "prod_loss                              #MV\n",
       "prod_loss_perc                         #MV\n",
       "production                             #MV\n",
       "Name: 1060, dtype: object"
      ]
     },
     "metadata": {},
     "output_type": "display_data"
    },
    {
     "data": {
      "text/plain": [
       "DoW                                 Friday\n",
       "hour                                     1\n",
       "minute                                   0\n",
       "date              07-31-2020 00:00:00.0000\n",
       "maintenance                            Yes\n",
       "prod_loss                              #MV\n",
       "prod_loss_perc                         #MV\n",
       "production                             #MV\n",
       "Name: 1074, dtype: object"
      ]
     },
     "metadata": {},
     "output_type": "display_data"
    },
    {
     "data": {
      "text/plain": [
       "DoW                               Saturday\n",
       "hour                                     1\n",
       "minute                                   0\n",
       "date              07-31-2021 00:00:00.0000\n",
       "maintenance                            Yes\n",
       "prod_loss                              #MV\n",
       "prod_loss_perc                         #MV\n",
       "production                             #MV\n",
       "Name: 1078, dtype: object"
      ]
     },
     "metadata": {},
     "output_type": "display_data"
    },
    {
     "data": {
      "text/plain": [
       "DoW                                 Sunday\n",
       "hour                                     1\n",
       "minute                                   0\n",
       "date              08-07-2022 00:00:00.0000\n",
       "maintenance                            Yes\n",
       "prod_loss                              #MV\n",
       "prod_loss_perc                         #MV\n",
       "production                             #MV\n",
       "Name: 1080, dtype: object"
      ]
     },
     "metadata": {},
     "output_type": "display_data"
    },
    {
     "data": {
      "text/plain": [
       "DoW                               Saturday\n",
       "hour                                     1\n",
       "minute                                   0\n",
       "date              08-25-2018 00:00:00.0000\n",
       "maintenance                            Yes\n",
       "prod_loss                              #MV\n",
       "prod_loss_perc                         #MV\n",
       "production                             #MV\n",
       "Name: 1142, dtype: object"
      ]
     },
     "metadata": {},
     "output_type": "display_data"
    },
    {
     "data": {
      "text/plain": [
       "DoW                                 Friday\n",
       "hour                                     1\n",
       "minute                                   0\n",
       "date              08-24-2018 00:00:00.0000\n",
       "maintenance                            Yes\n",
       "prod_loss                              #MV\n",
       "prod_loss_perc                         #MV\n",
       "production                             #MV\n",
       "Name: 1152, dtype: object"
      ]
     },
     "metadata": {},
     "output_type": "display_data"
    },
    {
     "data": {
      "text/plain": [
       "DoW                               Saturday\n",
       "hour                                     1\n",
       "minute                                   0\n",
       "date              08-06-2022 00:00:00.0000\n",
       "maintenance                            Yes\n",
       "prod_loss                              #MV\n",
       "prod_loss_perc                         #MV\n",
       "production                             #MV\n",
       "Name: 1194, dtype: object"
      ]
     },
     "metadata": {},
     "output_type": "display_data"
    },
    {
     "data": {
      "text/plain": [
       "DoW                               Thursday\n",
       "hour                                     1\n",
       "minute                                   0\n",
       "date              07-30-2020 00:00:00.0000\n",
       "maintenance                            Yes\n",
       "prod_loss                              #MV\n",
       "prod_loss_perc                         #MV\n",
       "production                             #MV\n",
       "Name: 1208, dtype: object"
      ]
     },
     "metadata": {},
     "output_type": "display_data"
    },
    {
     "data": {
      "text/plain": [
       "DoW                                 Friday\n",
       "hour                                     1\n",
       "minute                                   0\n",
       "date              07-30-2021 00:00:00.0000\n",
       "maintenance                            Yes\n",
       "prod_loss                              #MV\n",
       "prod_loss_perc                         #MV\n",
       "production                             #MV\n",
       "Name: 1212, dtype: object"
      ]
     },
     "metadata": {},
     "output_type": "display_data"
    },
    {
     "data": {
      "text/plain": [
       "DoW                              Wednesday\n",
       "hour                                     1\n",
       "minute                                   0\n",
       "date              08-08-2018 00:00:00.0000\n",
       "maintenance                            Yes\n",
       "prod_loss                              #MV\n",
       "prod_loss_perc                         #MV\n",
       "production                             #MV\n",
       "Name: 1225, dtype: object"
      ]
     },
     "metadata": {},
     "output_type": "display_data"
    },
    {
     "data": {
      "text/plain": [
       "DoW                              Wednesday\n",
       "hour                                     1\n",
       "minute                                   0\n",
       "date              08-10-2022 00:00:00.0000\n",
       "maintenance                            Yes\n",
       "prod_loss                              #MV\n",
       "prod_loss_perc                         #MV\n",
       "production                             #MV\n",
       "Name: 1239, dtype: object"
      ]
     },
     "metadata": {},
     "output_type": "display_data"
    },
    {
     "data": {
      "text/plain": [
       "DoW                                 Monday\n",
       "hour                                     1\n",
       "minute                                   0\n",
       "date              07-26-2021 00:00:00.0000\n",
       "maintenance                            Yes\n",
       "prod_loss                              #MV\n",
       "prod_loss_perc                         #MV\n",
       "production                             #MV\n",
       "Name: 1246, dtype: object"
      ]
     },
     "metadata": {},
     "output_type": "display_data"
    },
    {
     "data": {
      "text/plain": [
       "DoW                              Wednesday\n",
       "hour                                     1\n",
       "minute                                   0\n",
       "date              07-17-2019 00:00:00.0000\n",
       "maintenance                            Yes\n",
       "prod_loss                              #MV\n",
       "prod_loss_perc                         #MV\n",
       "production                             #MV\n",
       "Name: 1260, dtype: object"
      ]
     },
     "metadata": {},
     "output_type": "display_data"
    },
    {
     "data": {
      "text/plain": [
       "DoW                                 Friday\n",
       "hour                                     1\n",
       "minute                                   0\n",
       "date              08-26-2022 00:00:00.0000\n",
       "maintenance                            Yes\n",
       "prod_loss                              #MV\n",
       "prod_loss_perc                         #MV\n",
       "production                             #MV\n",
       "Name: 1296, dtype: object"
      ]
     },
     "metadata": {},
     "output_type": "display_data"
    },
    {
     "data": {
      "text/plain": [
       "DoW                                 Monday\n",
       "hour                                     1\n",
       "minute                                   0\n",
       "date              07-01-2019 00:00:00.0000\n",
       "maintenance                            Yes\n",
       "prod_loss                              #MV\n",
       "prod_loss_perc                         #MV\n",
       "production                             #MV\n",
       "Name: 1306, dtype: object"
      ]
     },
     "metadata": {},
     "output_type": "display_data"
    },
    {
     "data": {
      "text/plain": [
       "DoW                                Tuesday\n",
       "hour                                     1\n",
       "minute                                   0\n",
       "date              08-03-2021 00:00:00.0000\n",
       "maintenance                            Yes\n",
       "prod_loss                              #MV\n",
       "prod_loss_perc                         #MV\n",
       "production                             #MV\n",
       "Name: 1325, dtype: object"
      ]
     },
     "metadata": {},
     "output_type": "display_data"
    },
    {
     "data": {
      "text/plain": [
       "DoW                                 Monday\n",
       "hour                                     1\n",
       "minute                                   0\n",
       "date              08-03-2020 00:00:00.0000\n",
       "maintenance                            Yes\n",
       "prod_loss                              #MV\n",
       "prod_loss_perc                         #MV\n",
       "production                             #MV\n",
       "Name: 1326, dtype: object"
      ]
     },
     "metadata": {},
     "output_type": "display_data"
    },
    {
     "data": {
      "text/plain": [
       "DoW                                 Sunday\n",
       "hour                                     1\n",
       "minute                                   0\n",
       "date              08-12-2018 00:00:00.0000\n",
       "maintenance                            Yes\n",
       "prod_loss                              #MV\n",
       "prod_loss_perc                         #MV\n",
       "production                             #MV\n",
       "Name: 1328, dtype: object"
      ]
     },
     "metadata": {},
     "output_type": "display_data"
    },
    {
     "data": {
      "text/plain": [
       "DoW                               Saturday\n",
       "hour                                     1\n",
       "minute                                   0\n",
       "date              08-15-2020 00:00:00.0000\n",
       "maintenance                            Yes\n",
       "prod_loss                              #MV\n",
       "prod_loss_perc                         #MV\n",
       "production                             #MV\n",
       "Name: 1367, dtype: object"
      ]
     },
     "metadata": {},
     "output_type": "display_data"
    },
    {
     "data": {
      "text/plain": [
       "DoW                              Wednesday\n",
       "hour                                     1\n",
       "minute                                   0\n",
       "date              07-21-2021 00:00:00.0000\n",
       "maintenance                            Yes\n",
       "prod_loss                              #MV\n",
       "prod_loss_perc                         #MV\n",
       "production                             #MV\n",
       "Name: 1377, dtype: object"
      ]
     },
     "metadata": {},
     "output_type": "display_data"
    },
    {
     "data": {
      "text/plain": [
       "DoW                              Wednesday\n",
       "hour                                     1\n",
       "minute                                   0\n",
       "date              08-17-2022 00:00:00.0000\n",
       "maintenance                            Yes\n",
       "prod_loss                              #MV\n",
       "prod_loss_perc                         #MV\n",
       "production                             #MV\n",
       "Name: 1380, dtype: object"
      ]
     },
     "metadata": {},
     "output_type": "display_data"
    },
    {
     "data": {
      "text/plain": [
       "DoW                                 Sunday\n",
       "hour                                     1\n",
       "minute                                   0\n",
       "date              08-19-2018 00:00:00.0000\n",
       "maintenance                            Yes\n",
       "prod_loss                              #MV\n",
       "prod_loss_perc                         #MV\n",
       "production                             #MV\n",
       "Name: 1408, dtype: object"
      ]
     },
     "metadata": {},
     "output_type": "display_data"
    },
    {
     "data": {
      "text/plain": [
       "DoW                                 Monday\n",
       "hour                                     1\n",
       "minute                                   0\n",
       "date              08-01-2022 00:00:00.0000\n",
       "maintenance                            Yes\n",
       "prod_loss                              #MV\n",
       "prod_loss_perc                         #MV\n",
       "production                             #MV\n",
       "Name: 1422, dtype: object"
      ]
     },
     "metadata": {},
     "output_type": "display_data"
    },
    {
     "data": {
      "text/plain": [
       "DoW                               Saturday\n",
       "hour                                     1\n",
       "minute                                   0\n",
       "date              08-08-2020 00:00:00.0000\n",
       "maintenance                            Yes\n",
       "prod_loss                              #MV\n",
       "prod_loss_perc                         #MV\n",
       "production                             #MV\n",
       "Name: 1425, dtype: object"
      ]
     },
     "metadata": {},
     "output_type": "display_data"
    },
    {
     "data": {
      "text/plain": [
       "DoW                               Thursday\n",
       "hour                                     1\n",
       "minute                                   0\n",
       "date              08-23-2018 00:00:00.0000\n",
       "maintenance                            Yes\n",
       "prod_loss                              #MV\n",
       "prod_loss_perc                         #MV\n",
       "production                             #MV\n",
       "Name: 1474, dtype: object"
      ]
     },
     "metadata": {},
     "output_type": "display_data"
    },
    {
     "data": {
      "text/plain": [
       "DoW                              Wednesday\n",
       "hour                                     1\n",
       "minute                                   0\n",
       "date              08-12-2020 00:00:00.0000\n",
       "maintenance                            Yes\n",
       "prod_loss                              #MV\n",
       "prod_loss_perc                         #MV\n",
       "production                             #MV\n",
       "Name: 1490, dtype: object"
      ]
     },
     "metadata": {},
     "output_type": "display_data"
    },
    {
     "data": {
      "text/plain": [
       "DoW                              Wednesday\n",
       "hour                                     1\n",
       "minute                                   0\n",
       "date              08-15-2018 00:00:00.0000\n",
       "maintenance                            Yes\n",
       "prod_loss                              #MV\n",
       "prod_loss_perc                         #MV\n",
       "production                             #MV\n",
       "Name: 1511, dtype: object"
      ]
     },
     "metadata": {},
     "output_type": "display_data"
    },
    {
     "data": {
      "text/plain": [
       "DoW                                Tuesday\n",
       "hour                                     1\n",
       "minute                                   0\n",
       "date              08-04-2020 00:00:00.0000\n",
       "maintenance                            Yes\n",
       "prod_loss                              #MV\n",
       "prod_loss_perc                         #MV\n",
       "production                             #MV\n",
       "Name: 1528, dtype: object"
      ]
     },
     "metadata": {},
     "output_type": "display_data"
    },
    {
     "data": {
      "text/plain": [
       "DoW                              Wednesday\n",
       "hour                                     1\n",
       "minute                                   0\n",
       "date              08-04-2021 00:00:00.0000\n",
       "maintenance                            Yes\n",
       "prod_loss                              #MV\n",
       "prod_loss_perc                         #MV\n",
       "production                             #MV\n",
       "Name: 1529, dtype: object"
      ]
     },
     "metadata": {},
     "output_type": "display_data"
    },
    {
     "data": {
      "text/plain": [
       "DoW                               Saturday\n",
       "hour                                     1\n",
       "minute                                   0\n",
       "date              07-06-2019 00:00:00.0000\n",
       "maintenance                            Yes\n",
       "prod_loss                              #MV\n",
       "prod_loss_perc                         #MV\n",
       "production                             #MV\n",
       "Name: 1547, dtype: object"
      ]
     },
     "metadata": {},
     "output_type": "display_data"
    },
    {
     "data": {
      "text/plain": [
       "DoW                                 Sunday\n",
       "hour                                     1\n",
       "minute                                   0\n",
       "date              08-21-2022 00:00:00.0000\n",
       "maintenance                            Yes\n",
       "prod_loss                              #MV\n",
       "prod_loss_perc                         #MV\n",
       "production                             #MV\n",
       "Name: 1554, dtype: object"
      ]
     },
     "metadata": {},
     "output_type": "display_data"
    },
    {
     "data": {
      "text/plain": [
       "DoW                               Saturday\n",
       "hour                                     1\n",
       "minute                                   0\n",
       "date              07-17-2021 00:00:00.0000\n",
       "maintenance                            Yes\n",
       "prod_loss                              #MV\n",
       "prod_loss_perc                         #MV\n",
       "production                             #MV\n",
       "Name: 1555, dtype: object"
      ]
     },
     "metadata": {},
     "output_type": "display_data"
    },
    {
     "data": {
      "text/plain": [
       "DoW                              Wednesday\n",
       "hour                                     1\n",
       "minute                                   0\n",
       "date              07-10-2019 00:00:00.0000\n",
       "maintenance                            Yes\n",
       "prod_loss                              #MV\n",
       "prod_loss_perc                         #MV\n",
       "production                             #MV\n",
       "Name: 1594, dtype: object"
      ]
     },
     "metadata": {},
     "output_type": "display_data"
    },
    {
     "data": {
      "text/plain": [
       "DoW                               Thursday\n",
       "hour                                     1\n",
       "minute                                   0\n",
       "date              07-11-2019 00:00:00.0000\n",
       "maintenance                            Yes\n",
       "prod_loss                              #MV\n",
       "prod_loss_perc                         #MV\n",
       "production                             #MV\n",
       "Name: 1606, dtype: object"
      ]
     },
     "metadata": {},
     "output_type": "display_data"
    },
    {
     "data": {
      "text/plain": [
       "DoW                                 Friday\n",
       "hour                                     1\n",
       "minute                                   0\n",
       "date              07-16-2021 00:00:00.0000\n",
       "maintenance                            Yes\n",
       "prod_loss                              #MV\n",
       "prod_loss_perc                         #MV\n",
       "production                             #MV\n",
       "Name: 1630, dtype: object"
      ]
     },
     "metadata": {},
     "output_type": "display_data"
    },
    {
     "data": {
      "text/plain": [
       "DoW                               Saturday\n",
       "hour                                     1\n",
       "minute                                   0\n",
       "date              08-20-2022 00:00:00.0000\n",
       "maintenance                            Yes\n",
       "prod_loss                              #MV\n",
       "prod_loss_perc                         #MV\n",
       "production                             #MV\n",
       "Name: 1643, dtype: object"
      ]
     },
     "metadata": {},
     "output_type": "display_data"
    },
    {
     "data": {
      "text/plain": [
       "DoW                                 Sunday\n",
       "hour                                     1\n",
       "minute                                   0\n",
       "date              07-07-2019 00:00:00.0000\n",
       "maintenance                            Yes\n",
       "prod_loss                              #MV\n",
       "prod_loss_perc                         #MV\n",
       "production                             #MV\n",
       "Name: 1653, dtype: object"
      ]
     },
     "metadata": {},
     "output_type": "display_data"
    },
    {
     "data": {
      "text/plain": [
       "DoW                              Wednesday\n",
       "hour                                     1\n",
       "minute                                   0\n",
       "date              08-05-2020 00:00:00.0000\n",
       "maintenance                            Yes\n",
       "prod_loss                              #MV\n",
       "prod_loss_perc                         #MV\n",
       "production                             #MV\n",
       "Name: 1670, dtype: object"
      ]
     },
     "metadata": {},
     "output_type": "display_data"
    },
    {
     "data": {
      "text/plain": [
       "DoW                               Thursday\n",
       "hour                                     1\n",
       "minute                                   0\n",
       "date              08-05-2021 00:00:00.0000\n",
       "maintenance                            Yes\n",
       "prod_loss                              #MV\n",
       "prod_loss_perc                         #MV\n",
       "production                             #MV\n",
       "Name: 1671, dtype: object"
      ]
     },
     "metadata": {},
     "output_type": "display_data"
    },
    {
     "data": {
      "text/plain": [
       "DoW                                Tuesday\n",
       "hour                                     1\n",
       "minute                                   0\n",
       "date              08-14-2018 00:00:00.0000\n",
       "maintenance                            Yes\n",
       "prod_loss                              #MV\n",
       "prod_loss_perc                         #MV\n",
       "production                             #MV\n",
       "Name: 1684, dtype: object"
      ]
     },
     "metadata": {},
     "output_type": "display_data"
    },
    {
     "data": {
      "text/plain": [
       "DoW                               Thursday\n",
       "hour                                     1\n",
       "minute                                   0\n",
       "date              08-13-2020 00:00:00.0000\n",
       "maintenance                            Yes\n",
       "prod_loss                              #MV\n",
       "prod_loss_perc                         #MV\n",
       "production                             #MV\n",
       "Name: 1719, dtype: object"
      ]
     },
     "metadata": {},
     "output_type": "display_data"
    },
    {
     "data": {
      "text/plain": [
       "DoW                              Wednesday\n",
       "hour                                     1\n",
       "minute                                   0\n",
       "date              08-22-2018 00:00:00.0000\n",
       "maintenance                            Yes\n",
       "prod_loss                              #MV\n",
       "prod_loss_perc                         #MV\n",
       "production                             #MV\n",
       "Name: 1725, dtype: object"
      ]
     },
     "metadata": {},
     "output_type": "display_data"
    },
    {
     "data": {
      "text/plain": [
       "DoW                                 Sunday\n",
       "hour                                     1\n",
       "minute                                   0\n",
       "date              08-09-2020 00:00:00.0000\n",
       "maintenance                            Yes\n",
       "prod_loss                              #MV\n",
       "prod_loss_perc                         #MV\n",
       "production                             #MV\n",
       "Name: 1782, dtype: object"
      ]
     },
     "metadata": {},
     "output_type": "display_data"
    },
    {
     "data": {
      "text/plain": [
       "DoW                               Saturday\n",
       "hour                                     1\n",
       "minute                                   0\n",
       "date              08-18-2018 00:00:00.0000\n",
       "maintenance                            Yes\n",
       "prod_loss                              #MV\n",
       "prod_loss_perc                         #MV\n",
       "production                             #MV\n",
       "Name: 1792, dtype: object"
      ]
     },
     "metadata": {},
     "output_type": "display_data"
    },
    {
     "data": {
      "text/plain": [
       "DoW                                Tuesday\n",
       "hour                                     1\n",
       "minute                                   0\n",
       "date              08-16-2022 00:00:00.0000\n",
       "maintenance                            Yes\n",
       "prod_loss                              #MV\n",
       "prod_loss_perc                         #MV\n",
       "production                             #MV\n",
       "Name: 1820, dtype: object"
      ]
     },
     "metadata": {},
     "output_type": "display_data"
    },
    {
     "data": {
      "text/plain": [
       "DoW                                Tuesday\n",
       "hour                                     1\n",
       "minute                                   0\n",
       "date              07-20-2021 00:00:00.0000\n",
       "maintenance                            Yes\n",
       "prod_loss                              #MV\n",
       "prod_loss_perc                         #MV\n",
       "production                             #MV\n",
       "Name: 1829, dtype: object"
      ]
     },
     "metadata": {},
     "output_type": "display_data"
    }
   ],
   "source": [
    "# let's check the fields that are marked with maintenance 'yes'\n",
    "for index, field in stockholm_data_nulls.iterrows() :\n",
    "    if field['maintenance']==\"Yes\":\n",
    "        display(field)"
   ]
  },
  {
   "cell_type": "code",
   "execution_count": 27,
   "id": "e1f18e0a",
   "metadata": {},
   "outputs": [],
   "source": [
    "# check if there is #MV values when maintenance is not 'yes'\n",
    "for index, field in stockholm_data_nulls.iterrows() :\n",
    "    if  field['production']=='#MV' and field['maintenance']!=\"Yes\":\n",
    "        display(field)"
   ]
  },
  {
   "cell_type": "code",
   "execution_count": 28,
   "id": "2f9f1508",
   "metadata": {},
   "outputs": [],
   "source": [
    "# check if maintenance is set on other timestamps than 1\n",
    "for index, field in stockholm_data_nulls.iterrows() :\n",
    "    if field['maintenance']==\"Yes\" and field['hour'] !=1:\n",
    "        display(field)"
   ]
  },
  {
   "cell_type": "markdown",
   "id": "2c3bf815",
   "metadata": {},
   "source": [
    "##### first couple of conclusions:\n",
    "\n",
    "- to make a prediction of the production capability of brussels  we can remove the rows where the record is marked with maintenance yes, since the task is to make a simulation, not to check for optimalisations in maintenance\n",
    "- we can make the #MV values as 0 and plot them to see when the specific timings of maintenance occur (if there is time left)"
   ]
  },
  {
   "cell_type": "code",
   "execution_count": 13,
   "id": "b9430d25",
   "metadata": {},
   "outputs": [],
   "source": [
    "# creating a new df with the dropped the #MV records \n",
    "stockholm_data_wo_nulls = stockholm_data.replace({\"#MV\": np.nan}).dropna()"
   ]
  },
  {
   "cell_type": "code",
   "execution_count": 14,
   "id": "9e62b88d",
   "metadata": {},
   "outputs": [
    {
     "data": {
      "text/html": [
       "<div>\n",
       "<style scoped>\n",
       "    .dataframe tbody tr th:only-of-type {\n",
       "        vertical-align: middle;\n",
       "    }\n",
       "\n",
       "    .dataframe tbody tr th {\n",
       "        vertical-align: top;\n",
       "    }\n",
       "\n",
       "    .dataframe thead th {\n",
       "        text-align: right;\n",
       "    }\n",
       "</style>\n",
       "<table border=\"1\" class=\"dataframe\">\n",
       "  <thead>\n",
       "    <tr style=\"text-align: right;\">\n",
       "      <th></th>\n",
       "      <th>DoW</th>\n",
       "      <th>hour</th>\n",
       "      <th>minute</th>\n",
       "      <th>date</th>\n",
       "      <th>maintenance</th>\n",
       "      <th>prod_loss</th>\n",
       "      <th>prod_loss_perc</th>\n",
       "      <th>production</th>\n",
       "    </tr>\n",
       "  </thead>\n",
       "  <tbody>\n",
       "    <tr>\n",
       "      <th>0</th>\n",
       "      <td>Tuesday</td>\n",
       "      <td>1</td>\n",
       "      <td>0</td>\n",
       "      <td>09-22-2020 00:00:00.0000</td>\n",
       "      <td>No</td>\n",
       "      <td>85.0</td>\n",
       "      <td>31.0</td>\n",
       "      <td>189.0</td>\n",
       "    </tr>\n",
       "    <tr>\n",
       "      <th>1</th>\n",
       "      <td>Monday</td>\n",
       "      <td>1</td>\n",
       "      <td>0</td>\n",
       "      <td>01-22-2018 00:00:00.0000</td>\n",
       "      <td>No</td>\n",
       "      <td>51.0</td>\n",
       "      <td>19.0</td>\n",
       "      <td>223.0</td>\n",
       "    </tr>\n",
       "    <tr>\n",
       "      <th>2</th>\n",
       "      <td>Wednesday</td>\n",
       "      <td>1</td>\n",
       "      <td>0</td>\n",
       "      <td>08-21-2019 00:00:00.0000</td>\n",
       "      <td>No</td>\n",
       "      <td>110.0</td>\n",
       "      <td>40.0</td>\n",
       "      <td>164.0</td>\n",
       "    </tr>\n",
       "    <tr>\n",
       "      <th>4</th>\n",
       "      <td>Wednesday</td>\n",
       "      <td>1</td>\n",
       "      <td>0</td>\n",
       "      <td>09-22-2021 00:00:00.0000</td>\n",
       "      <td>No</td>\n",
       "      <td>134.0</td>\n",
       "      <td>49.0</td>\n",
       "      <td>140.0</td>\n",
       "    </tr>\n",
       "    <tr>\n",
       "      <th>5</th>\n",
       "      <td>Tuesday</td>\n",
       "      <td>1</td>\n",
       "      <td>0</td>\n",
       "      <td>01-22-2019 00:00:00.0000</td>\n",
       "      <td>No</td>\n",
       "      <td>55.0</td>\n",
       "      <td>20.0</td>\n",
       "      <td>219.0</td>\n",
       "    </tr>\n",
       "    <tr>\n",
       "      <th>...</th>\n",
       "      <td>...</td>\n",
       "      <td>...</td>\n",
       "      <td>...</td>\n",
       "      <td>...</td>\n",
       "      <td>...</td>\n",
       "      <td>...</td>\n",
       "      <td>...</td>\n",
       "      <td>...</td>\n",
       "    </tr>\n",
       "    <tr>\n",
       "      <th>1824</th>\n",
       "      <td>Sunday</td>\n",
       "      <td>1</td>\n",
       "      <td>0</td>\n",
       "      <td>12-11-2022 00:00:00.0000</td>\n",
       "      <td>No</td>\n",
       "      <td>47.0</td>\n",
       "      <td>17.0</td>\n",
       "      <td>227.0</td>\n",
       "    </tr>\n",
       "    <tr>\n",
       "      <th>1825</th>\n",
       "      <td>Friday</td>\n",
       "      <td>1</td>\n",
       "      <td>0</td>\n",
       "      <td>07-29-2022 00:00:00.0000</td>\n",
       "      <td>No</td>\n",
       "      <td>274.0</td>\n",
       "      <td>100.0</td>\n",
       "      <td>0.0</td>\n",
       "    </tr>\n",
       "    <tr>\n",
       "      <th>1826</th>\n",
       "      <td>Monday</td>\n",
       "      <td>1</td>\n",
       "      <td>0</td>\n",
       "      <td>07-20-2020 00:00:00.0000</td>\n",
       "      <td>No</td>\n",
       "      <td>81.0</td>\n",
       "      <td>29.0</td>\n",
       "      <td>193.0</td>\n",
       "    </tr>\n",
       "    <tr>\n",
       "      <th>1827</th>\n",
       "      <td>Sunday</td>\n",
       "      <td>1</td>\n",
       "      <td>0</td>\n",
       "      <td>06-23-2019 00:00:00.0000</td>\n",
       "      <td>No</td>\n",
       "      <td>72.0</td>\n",
       "      <td>26.0</td>\n",
       "      <td>202.0</td>\n",
       "    </tr>\n",
       "    <tr>\n",
       "      <th>1828</th>\n",
       "      <td>Saturday</td>\n",
       "      <td>1</td>\n",
       "      <td>0</td>\n",
       "      <td>06-23-2018 00:00:00.0000</td>\n",
       "      <td>No</td>\n",
       "      <td>77.0</td>\n",
       "      <td>28.0</td>\n",
       "      <td>197.0</td>\n",
       "    </tr>\n",
       "  </tbody>\n",
       "</table>\n",
       "<p>1716 rows × 8 columns</p>\n",
       "</div>"
      ],
      "text/plain": [
       "            DoW  hour  minute                      date maintenance  \\\n",
       "0       Tuesday     1       0  09-22-2020 00:00:00.0000          No   \n",
       "1        Monday     1       0  01-22-2018 00:00:00.0000          No   \n",
       "2     Wednesday     1       0  08-21-2019 00:00:00.0000          No   \n",
       "4     Wednesday     1       0  09-22-2021 00:00:00.0000          No   \n",
       "5       Tuesday     1       0  01-22-2019 00:00:00.0000          No   \n",
       "...         ...   ...     ...                       ...         ...   \n",
       "1824     Sunday     1       0  12-11-2022 00:00:00.0000          No   \n",
       "1825     Friday     1       0  07-29-2022 00:00:00.0000          No   \n",
       "1826     Monday     1       0  07-20-2020 00:00:00.0000          No   \n",
       "1827     Sunday     1       0  06-23-2019 00:00:00.0000          No   \n",
       "1828   Saturday     1       0  06-23-2018 00:00:00.0000          No   \n",
       "\n",
       "      prod_loss  prod_loss_perc  production  \n",
       "0          85.0            31.0       189.0  \n",
       "1          51.0            19.0       223.0  \n",
       "2         110.0            40.0       164.0  \n",
       "4         134.0            49.0       140.0  \n",
       "5          55.0            20.0       219.0  \n",
       "...         ...             ...         ...  \n",
       "1824       47.0            17.0       227.0  \n",
       "1825      274.0           100.0         0.0  \n",
       "1826       81.0            29.0       193.0  \n",
       "1827       72.0            26.0       202.0  \n",
       "1828       77.0            28.0       197.0  \n",
       "\n",
       "[1716 rows x 8 columns]"
      ]
     },
     "metadata": {},
     "output_type": "display_data"
    }
   ],
   "source": [
    "# check the dataframe\n",
    "display(stockholm_data_wo_nulls)"
   ]
  },
  {
   "cell_type": "code",
   "execution_count": 15,
   "id": "55d1c335",
   "metadata": {},
   "outputs": [],
   "source": [
    "# let's set the objects to ints so we can use them for the graphs\n",
    "stockholm_data_wo_nulls['production'] = stockholm_data_wo_nulls['production'].astype(int)\n",
    "stockholm_data_wo_nulls['prod_loss']  = stockholm_data_wo_nulls['prod_loss'].astype(int)\n",
    "# percentage is not used but we int it anyway just to do a describe of the dataframe\n",
    "stockholm_data_wo_nulls['prod_loss_perc']  = stockholm_data_wo_nulls['prod_loss_perc'].astype(int)"
   ]
  },
  {
   "cell_type": "code",
   "execution_count": 16,
   "id": "f0bb3133",
   "metadata": {},
   "outputs": [
    {
     "data": {
      "text/html": [
       "<div>\n",
       "<style scoped>\n",
       "    .dataframe tbody tr th:only-of-type {\n",
       "        vertical-align: middle;\n",
       "    }\n",
       "\n",
       "    .dataframe tbody tr th {\n",
       "        vertical-align: top;\n",
       "    }\n",
       "\n",
       "    .dataframe thead th {\n",
       "        text-align: right;\n",
       "    }\n",
       "</style>\n",
       "<table border=\"1\" class=\"dataframe\">\n",
       "  <thead>\n",
       "    <tr style=\"text-align: right;\">\n",
       "      <th></th>\n",
       "      <th>hour</th>\n",
       "      <th>minute</th>\n",
       "      <th>prod_loss</th>\n",
       "      <th>prod_loss_perc</th>\n",
       "      <th>production</th>\n",
       "    </tr>\n",
       "  </thead>\n",
       "  <tbody>\n",
       "    <tr>\n",
       "      <th>count</th>\n",
       "      <td>1716.0</td>\n",
       "      <td>1716.0</td>\n",
       "      <td>1716.000000</td>\n",
       "      <td>1716.000000</td>\n",
       "      <td>1716.000000</td>\n",
       "    </tr>\n",
       "    <tr>\n",
       "      <th>mean</th>\n",
       "      <td>1.0</td>\n",
       "      <td>0.0</td>\n",
       "      <td>97.054196</td>\n",
       "      <td>35.429487</td>\n",
       "      <td>176.945804</td>\n",
       "    </tr>\n",
       "    <tr>\n",
       "      <th>std</th>\n",
       "      <td>0.0</td>\n",
       "      <td>0.0</td>\n",
       "      <td>63.080946</td>\n",
       "      <td>23.018391</td>\n",
       "      <td>63.080946</td>\n",
       "    </tr>\n",
       "    <tr>\n",
       "      <th>min</th>\n",
       "      <td>1.0</td>\n",
       "      <td>0.0</td>\n",
       "      <td>9.000000</td>\n",
       "      <td>3.000000</td>\n",
       "      <td>0.000000</td>\n",
       "    </tr>\n",
       "    <tr>\n",
       "      <th>25%</th>\n",
       "      <td>1.0</td>\n",
       "      <td>0.0</td>\n",
       "      <td>62.750000</td>\n",
       "      <td>23.000000</td>\n",
       "      <td>182.000000</td>\n",
       "    </tr>\n",
       "    <tr>\n",
       "      <th>50%</th>\n",
       "      <td>1.0</td>\n",
       "      <td>0.0</td>\n",
       "      <td>73.000000</td>\n",
       "      <td>27.000000</td>\n",
       "      <td>201.000000</td>\n",
       "    </tr>\n",
       "    <tr>\n",
       "      <th>75%</th>\n",
       "      <td>1.0</td>\n",
       "      <td>0.0</td>\n",
       "      <td>92.000000</td>\n",
       "      <td>33.250000</td>\n",
       "      <td>211.250000</td>\n",
       "    </tr>\n",
       "    <tr>\n",
       "      <th>max</th>\n",
       "      <td>1.0</td>\n",
       "      <td>0.0</td>\n",
       "      <td>274.000000</td>\n",
       "      <td>100.000000</td>\n",
       "      <td>265.000000</td>\n",
       "    </tr>\n",
       "  </tbody>\n",
       "</table>\n",
       "</div>"
      ],
      "text/plain": [
       "         hour  minute    prod_loss  prod_loss_perc   production\n",
       "count  1716.0  1716.0  1716.000000     1716.000000  1716.000000\n",
       "mean      1.0     0.0    97.054196       35.429487   176.945804\n",
       "std       0.0     0.0    63.080946       23.018391    63.080946\n",
       "min       1.0     0.0     9.000000        3.000000     0.000000\n",
       "25%       1.0     0.0    62.750000       23.000000   182.000000\n",
       "50%       1.0     0.0    73.000000       27.000000   201.000000\n",
       "75%       1.0     0.0    92.000000       33.250000   211.250000\n",
       "max       1.0     0.0   274.000000      100.000000   265.000000"
      ]
     },
     "execution_count": 16,
     "metadata": {},
     "output_type": "execute_result"
    }
   ],
   "source": [
    "# let's describe the dataset\n",
    "stockholm_data_wo_nulls.describe()"
   ]
  },
  {
   "cell_type": "code",
   "execution_count": 17,
   "id": "65b4bfcd",
   "metadata": {},
   "outputs": [],
   "source": [
    "# let's separate the production and production loss into pandas series \n",
    "stockholm_production_wo_nulls  =stockholm_data_wo_nulls['production']\n",
    "stockholm_prod_loss_wo_nulls  =stockholm_data_wo_nulls['prod_loss']"
   ]
  },
  {
   "cell_type": "markdown",
   "id": "b6039419",
   "metadata": {},
   "source": [
    "##### visualize the data  for production and production loss "
   ]
  },
  {
   "cell_type": "code",
   "execution_count": 30,
   "id": "e80e6614",
   "metadata": {},
   "outputs": [
    {
     "data": {
      "image/png": "[encoded data removed]",
      "text/plain": [
       "<Figure size 640x480 with 1 Axes>"
      ]
     },
     "metadata": {},
     "output_type": "display_data"
    }
   ],
   "source": [
    "# make a hist plot of the production and the production loss\n",
    "# let's the zeros from the histview on the distribution \n",
    "# we can see a nice pattern emerging around the 1000 for production and around 250 for production loss\n",
    "plt.hist(stockholm_production_wo_nulls,range=(1,300),bins=100, density = True);\n",
    "plt.hist(stockholm_prod_loss_wo_nulls,range=(1,260),bins=100, density = True);"
   ]
  },
  {
   "cell_type": "code",
   "execution_count": 20,
   "id": "990caa99",
   "metadata": {},
   "outputs": [
    {
     "data": {
      "image/png": "[encoded data removed]",
      "text/plain": [
       "<Figure size 640x480 with 1 Axes>"
      ]
     },
     "metadata": {},
     "output_type": "display_data"
    }
   ],
   "source": [
    "# let's make a nicer plot to see how the distribution look like\n",
    "\n",
    "x_axis = (stockholm_production_wo_nulls.replace({0: np.nan}).dropna(axis=0)).sort_values()\n",
    "x_axis_2 = (stockholm_prod_loss_wo_nulls.replace({0: np.nan}).dropna(axis=0)).sort_values()\n",
    "# Calculating mean and standard deviation \n",
    "mean = statistics.mean(x_axis) \n",
    "sd = statistics.stdev(x_axis) \n",
    "mdian = statistics.median(x_axis)\n",
    "mean_2 = statistics.mean(x_axis_2) \n",
    "sd_2 = statistics.stdev(x_axis_2) \n",
    "mdian_2 = statistics.median(x_axis_2)\n",
    "plt.plot(x_axis, norm.pdf(x_axis, mdian, sd),color='green', linewidth=3) \n",
    "plt.plot(x_axis_2, norm.pdf(x_axis_2, mdian_2, sd_2),color='orange', linewidth=3) \n",
    "plt.show()"
   ]
  },
  {
   "cell_type": "markdown",
   "id": "883ae60d",
   "metadata": {},
   "source": [
    "### detailed production analysis"
   ]
  },
  {
   "cell_type": "code",
   "execution_count": 50,
   "id": "dc4782ab",
   "metadata": {},
   "outputs": [
    {
     "name": "stdout",
     "output_type": "stream",
     "text": [
      "176.9458041958042 is the mean\n",
      "201.0 is the median\n",
      "Variance: 3976.8869229546835\n",
      "63.06256356155106 is the standard deviation\n",
      "negative skew\n"
     ]
    },
    {
     "name": "stderr",
     "output_type": "stream",
     "text": [
      "/Users/geertvanderkrieken/anaconda3/lib/python3.11/site-packages/seaborn/_oldcore.py:1498: FutureWarning: is_categorical_dtype is deprecated and will be removed in a future version. Use isinstance(dtype, CategoricalDtype) instead\n",
      "  if pd.api.types.is_categorical_dtype(vector):\n",
      "/Users/geertvanderkrieken/anaconda3/lib/python3.11/site-packages/seaborn/_oldcore.py:1119: FutureWarning: use_inf_as_na option is deprecated and will be removed in a future version. Convert inf values to NaN before operating instead.\n",
      "  with pd.option_context('mode.use_inf_as_na', True):\n"
     ]
    },
    {
     "data": {
      "image/png": "[encoded data removed]",
      "text/plain": [
       "<Figure size 640x480 with 1 Axes>"
      ]
     },
     "metadata": {},
     "output_type": "display_data"
    }
   ],
   "source": [
    "# based on everything above we make a better plot for production data that shows also the details\n",
    "# mean, variance, standard deviation, skew and median,\n",
    "# along with a very cool graph that represents all of this\n",
    "\n",
    "display_production_data_stockholm = stockholm_production_wo_nulls.sort_values()\n",
    "\n",
    "production_mean = display_production_data_stockholm.mean()\n",
    "production_median = np.median(display_production_data_stockholm)\n",
    "production_std = statistics.pstdev(display_production_data_stockholm)\n",
    "production_variance = np.var(display_production_data_stockholm)\n",
    "skew = (\"negative skew\" \n",
    "        if np.median(display_production_data_stockholm)-display_production_data_stockholm.mean()>0 \n",
    "        else \"positive skew\")\n",
    "\n",
    "# numpy_data = np.random.normal(data_mean, data_std)\n",
    "# numpy_data = (numpy_data - data_mean)/data_std\n",
    "\n",
    "\n",
    "sns.histplot(display_production_data_stockholm, bins=30, kde=True, stat='probability')\n",
    "plt.axvline(production_mean, color='black', linestyle='dashed', linewidth=1)\n",
    "plt. axvline(production_median, color='red', linestyle='dashed', linewidth=1)\n",
    "plt.xlabel('daily production')\n",
    "plt.ylabel('Probability')\n",
    "plt.title(\"Distribution of daily production figures\")\n",
    "plt.xticks(range(155,200,5))\n",
    "print(f'{production_mean} is the mean')\n",
    "print(f'{production_median} is the median')\n",
    "print(f\"Variance: {production_variance}\")\n",
    "print(f'{production_std} is the standard deviation')\n",
    "print(f'{skew}')\n",
    "plt.show()\n",
    "\n"
   ]
  },
  {
   "cell_type": "code",
   "execution_count": 22,
   "id": "c7df4e94",
   "metadata": {},
   "outputs": [
    {
     "name": "stdout",
     "output_type": "stream",
     "text": [
      "Best-fit distribution: norm\n",
      "Parameters: (176.9458041958042, 63.062563561551066)\n"
     ]
    }
   ],
   "source": [
    "\n",
    "# let's use the shared function to doublecheck the results\n",
    "best_distribution, best_params = bd.find_best_fit_distribution_continuous(stockholm_production_wo_nulls)\n",
    " \n",
    "\n",
    "# Print the best-fit distribution and its parameters\n",
    "print(f\"Best-fit distribution: {best_distribution.name}\")\n",
    "print(f\"Parameters: {best_params}\")"
   ]
  },
  {
   "cell_type": "markdown",
   "id": "92a9eb7e",
   "metadata": {},
   "source": [
    "##### simulation for the production"
   ]
  },
  {
   "cell_type": "code",
   "execution_count": 23,
   "id": "c9edba2f",
   "metadata": {},
   "outputs": [
    {
     "name": "stdout",
     "output_type": "stream",
     "text": [
      "de volgende 10 dagen is dit de mogelijke productie: \n",
      " 166\n",
      " 182\n",
      " 88\n",
      " 164\n",
      " 137\n",
      " 108\n",
      " 192\n",
      " 136\n",
      " 235\n",
      " 108\n",
      "de mogelijke hoeveelheid productie voor de volgende 10 dagen is: 1516\n"
     ]
    }
   ],
   "source": [
    "# set the number of days and capture the returned list from the function\n",
    "aantal_dagen=10\n",
    "voorspellingen_production = bd.simulatie(production_mean, production_std, msr_stockholm,aantal_dagen)\n",
    "totaal =0\n",
    "print(f'de volgende {aantal_dagen} dagen is dit de mogelijke productie: ')\n",
    "for voorspelling in voorspellingen_production:\n",
    "    print (f' {voorspelling}')\n",
    "    totaal +=voorspelling\n",
    "print(f'de mogelijke hoeveelheid productie voor de volgende {aantal_dagen} dagen is: {totaal}')"
   ]
  },
  {
   "cell_type": "code",
   "execution_count": 24,
   "id": "4337a83c",
   "metadata": {},
   "outputs": [
    {
     "data": {
      "text/plain": [
       "<matplotlib.legend.Legend at 0x285769090>"
      ]
     },
     "execution_count": 24,
     "metadata": {},
     "output_type": "execute_result"
    },
    {
     "data": {
      "image/png": "[encoded data removed]",
      "text/plain": [
       "<Figure size 640x480 with 1 Axes>"
      ]
     },
     "metadata": {},
     "output_type": "display_data"
    }
   ],
   "source": [
    "# pdf = probability distribution function, cdf= cumulative distribution function\n",
    "cdf_data = bd.simulatie(production_mean, production_std, msr_stockholm,10**5)\n",
    "count, bins_count = np.histogram(cdf_data, bins=10) \n",
    "  \n",
    "# finding the PDF of the histogram using count values \n",
    "pdf = count / sum(count) \n",
    "  \n",
    "# using numpy np.cumsum to calculate the CDF \n",
    "# We can also find using the PDF values by looping and adding \n",
    "cdf = np.cumsum(pdf) \n",
    "  \n",
    "# plotting PDF and CDF \n",
    "plt.plot(bins_count[1:], pdf, color=\"red\", label=\"PDF\") \n",
    "plt.plot(bins_count[1:], cdf, label=\"CDF\") \n",
    "plt.legend() "
   ]
  },
  {
   "cell_type": "code",
   "execution_count": 47,
   "id": "4901bf0f",
   "metadata": {},
   "outputs": [
    {
     "data": {
      "text/plain": [
       "Text(0, 0.5, '$p$')"
      ]
     },
     "execution_count": 47,
     "metadata": {},
     "output_type": "execute_result"
    },
    {
     "data": {
      "image/png": "[encoded data removed]",
      "text/plain": [
       "<Figure size 640x480 with 2 Axes>"
      ]
     },
     "metadata": {},
     "output_type": "display_data"
    }
   ],
   "source": [
    "# example found on stack overflow, cumulative distribution function\n",
    "\n",
    "cdf_data = bd.simulatie(production_mean, production_std, msr_stockholm,10**5)\n",
    "cdf_data_sorted = np.sort(cdf_data)\n",
    "\n",
    "p = 1. * np.arange(len(cdf_data)) / (len(cdf_data) - 1)\n",
    "\n",
    "# plot the sorted data:\n",
    "fig = plt.figure()\n",
    "ax1 = fig.add_subplot(121)\n",
    "ax1.plot(p, cdf_data_sorted)\n",
    "ax1.set_xlabel('$p$')\n",
    "ax1.set_ylabel('$x$')\n",
    "\n",
    "ax2 = fig.add_subplot(122)\n",
    "ax2.plot(cdf_data_sorted, p)\n",
    "ax2.set_xlabel('$x$')\n",
    "ax2.set_ylabel('$p$')"
   ]
  },
  {
   "cell_type": "markdown",
   "id": "f9c30df0",
   "metadata": {},
   "source": [
    "### detailed production loss analysis"
   ]
  },
  {
   "cell_type": "code",
   "execution_count": 36,
   "id": "857a265d",
   "metadata": {},
   "outputs": [
    {
     "name": "stdout",
     "output_type": "stream",
     "text": [
      "97.0541958041958 is the mean\n",
      "73.0 is the median\n",
      "Variance: 3976.8869229546553\n",
      "63.06256356155106 is the standard deviation\n",
      "positive skew\n"
     ]
    },
    {
     "name": "stderr",
     "output_type": "stream",
     "text": [
      "/Users/geertvanderkrieken/anaconda3/lib/python3.11/site-packages/seaborn/_oldcore.py:1498: FutureWarning: is_categorical_dtype is deprecated and will be removed in a future version. Use isinstance(dtype, CategoricalDtype) instead\n",
      "  if pd.api.types.is_categorical_dtype(vector):\n",
      "/Users/geertvanderkrieken/anaconda3/lib/python3.11/site-packages/seaborn/_oldcore.py:1119: FutureWarning: use_inf_as_na option is deprecated and will be removed in a future version. Convert inf values to NaN before operating instead.\n",
      "  with pd.option_context('mode.use_inf_as_na', True):\n"
     ]
    },
    {
     "data": {
      "image/png": "[encoded data removed]",
      "text/plain": [
       "<Figure size 640x480 with 1 Axes>"
      ]
     },
     "metadata": {},
     "output_type": "display_data"
    }
   ],
   "source": [
    "# based on everything above we make a better plot for production loss data that shows also the details\n",
    "# mean, variance, standard deviation, skew and median,\n",
    "# along with a very cool graph that represents all of this\n",
    "data_to_display_prod_loss = stockholm_prod_loss_wo_nulls.sort_values()\n",
    "\n",
    "# with the above figures I can recreate a normal distribution with numpy:\n",
    "prod_loss_mean = data_to_display_prod_loss.mean()\n",
    "prod_loss_median = np.median(data_to_display_prod_loss)\n",
    "prod_loss_std = statistics.pstdev(data_to_display_prod_loss)\n",
    "prod_loss_var = np.var(data_to_display_prod_loss)\n",
    "skew = \"negative skew\" if np.median(data_to_display_prod_loss)-data_to_display_prod_loss.mean()>0 else \"positive skew\"\n",
    "\n",
    "#numpy_data_prod_loss = np.random.normal(data_mean_prod_loss, data_std_prod_loss)\n",
    "#numpy_data_prod_loss = (numpy_data_prod_loss - data_mean_prod_loss)/data_std_prod_loss\n",
    "\n",
    "sns.histplot(data_to_display_prod_loss, bins=30, kde=True, stat='probability')\n",
    "plt.axvline(prod_loss_mean, color='black', linestyle='dashed', linewidth=1)\n",
    "plt. axvline(prod_loss_median, color='red', linestyle='dashed', linewidth=1)\n",
    "plt.xlabel('daily production loss')\n",
    "plt.ylabel('Probability')\n",
    "plt.title(\"Distribution of daily production loss\")\n",
    "plt.xticks(range(155,200,5))\n",
    "print(f'{prod_loss_mean} is the mean')\n",
    "print(f'{prod_loss_median} is the median')\n",
    "print(f\"Variance: {prod_loss_var}\")\n",
    "print(f'{prod_loss_std} is the standard deviation')\n",
    "print(f'{skew}')\n",
    "plt.show()"
   ]
  },
  {
   "cell_type": "markdown",
   "id": "7e48eaae",
   "metadata": {},
   "source": [
    "##### simulation for the production loss"
   ]
  },
  {
   "cell_type": "code",
   "execution_count": 49,
   "id": "5959ed29",
   "metadata": {},
   "outputs": [
    {
     "name": "stdout",
     "output_type": "stream",
     "text": [
      "de volgende 7 dagen is dit het mogelijke productie verlies: \n",
      " 416\n",
      " 350\n",
      " 428\n",
      " 149\n",
      " 163\n",
      " 269\n",
      " 180\n",
      "de mogelijke hoeveelheid productie verlies voor de volgende 7 dagen is: 1955\n"
     ]
    }
   ],
   "source": [
    "aantal_dagen= 7\n",
    "voorspellingen_production_verlies = bd.simulatie(prod_loss_mean, prod_loss_std, msr_stockholm, aantal_dagen)\n",
    "totaal =0\n",
    "print(f'de volgende {aantal_dagen} dagen is dit het mogelijke productie verlies: ')\n",
    "for voorspelling in voorspellingen_production_verlies:\n",
    "    print (f' {voorspelling}')\n",
    "    totaal +=voorspelling\n",
    "print(f'de mogelijke hoeveelheid productie verlies voor de volgende {aantal_dagen} dagen is: {totaal}')"
   ]
  },
  {
   "cell_type": "markdown",
   "id": "75faa56a",
   "metadata": {},
   "source": [
    "### details production loss percent\n",
    "\n",
    "- could be used to make some better prediction on production loss, but not used for now"
   ]
  },
  {
   "cell_type": "code",
   "execution_count": 32,
   "id": "15b6dea5",
   "metadata": {},
   "outputs": [],
   "source": [
    "stockholm_prod_loss_perc_wo_nulls  =stockholm_data_wo_nulls['prod_loss_perc']"
   ]
  },
  {
   "cell_type": "code",
   "execution_count": 33,
   "id": "30ee0417",
   "metadata": {},
   "outputs": [
    {
     "data": {
      "text/plain": [
       "count    1716.000000\n",
       "mean       35.429487\n",
       "std        23.018391\n",
       "min         3.000000\n",
       "25%        23.000000\n",
       "50%        27.000000\n",
       "75%        33.250000\n",
       "max       100.000000\n",
       "Name: prod_loss_perc, dtype: float64"
      ]
     },
     "execution_count": 33,
     "metadata": {},
     "output_type": "execute_result"
    }
   ],
   "source": [
    "stockholm_prod_loss_perc_wo_nulls.describe()"
   ]
  },
  {
   "cell_type": "code",
   "execution_count": 35,
   "id": "4fdbb2fc",
   "metadata": {},
   "outputs": [
    {
     "name": "stdout",
     "output_type": "stream",
     "text": [
      "35.42948717948718 is the mean\n",
      "27.0 is the median\n",
      "Variance: 529.5375687346826\n",
      "23.011683309455744 is the standard deviation\n",
      "positive skew\n"
     ]
    },
    {
     "name": "stderr",
     "output_type": "stream",
     "text": [
      "/Users/geertvanderkrieken/anaconda3/lib/python3.11/site-packages/seaborn/_oldcore.py:1498: FutureWarning: is_categorical_dtype is deprecated and will be removed in a future version. Use isinstance(dtype, CategoricalDtype) instead\n",
      "  if pd.api.types.is_categorical_dtype(vector):\n",
      "/Users/geertvanderkrieken/anaconda3/lib/python3.11/site-packages/seaborn/_oldcore.py:1119: FutureWarning: use_inf_as_na option is deprecated and will be removed in a future version. Convert inf values to NaN before operating instead.\n",
      "  with pd.option_context('mode.use_inf_as_na', True):\n"
     ]
    },
    {
     "data": {
      "image/png": "[encoded data removed]",
      "text/plain": [
       "<Figure size 640x480 with 1 Axes>"
      ]
     },
     "metadata": {},
     "output_type": "display_data"
    }
   ],
   "source": [
    "# based on everything above we make a better plot for production loss data that shows also the details\n",
    "# mean, variance, standard deviation, skew and median,\n",
    "# along with a very cool graph that represents all of this\n",
    "data_to_display_prod_loss_perc = stockholm_prod_loss_perc_wo_nulls.sort_values()\n",
    "\n",
    "# with the above figures I can recreate a normal distribution with numpy:\n",
    "prod_loss_perc_mean = data_to_display_prod_loss_perc.mean()\n",
    "prod_loss_perc_median = np.median(data_to_display_prod_loss_perc)\n",
    "prod_loss_perc_std = statistics.pstdev(data_to_display_prod_loss_perc)\n",
    "prod_loss_perc_var = np.var(data_to_display_prod_loss_perc)\n",
    "skew_prod_loss_perc = \"negative skew\" if np.median(data_to_display_prod_loss_perc)-data_to_display_prod_loss_perc.mean()>0 else \"positive skew\"\n",
    "\n",
    "#numpy_data_prod_loss = np.random.normal(data_mean_prod_loss, data_std_prod_loss)\n",
    "#numpy_data_prod_loss = (numpy_data_prod_loss - data_mean_prod_loss)/data_std_prod_loss\n",
    "\n",
    "sns.histplot(data_to_display_prod_loss_perc, bins=30, kde=True, stat='probability')\n",
    "plt.axvline(prod_loss_perc_mean, color='black', linestyle='dashed', linewidth=1)\n",
    "plt. axvline(prod_loss_perc_median, color='red', linestyle='dashed', linewidth=1)\n",
    "plt.xlabel('daily production loss percent')\n",
    "plt.ylabel('Probability')\n",
    "plt.title(\"Distribution of daily production loss percent\")\n",
    "plt.xticks(range(155,200,5))\n",
    "print(f'{prod_loss_perc_mean} is the mean')\n",
    "print(f'{prod_loss_perc_median} is the median')\n",
    "print(f\"Variance: {prod_loss_perc_var}\")\n",
    "print(f'{prod_loss_perc_std} is the standard deviation')\n",
    "print(f'{skew_prod_loss_perc}')\n",
    "plt.show()"
   ]
  }
 ],
 "metadata": {
  "kernelspec": {
   "display_name": "Python 3 (ipykernel)",
   "language": "python",
   "name": "python3"
  },
  "language_info": {
   "codemirror_mode": {
    "name": "ipython",
    "version": 3
   },
   "file_extension": ".py",
   "mimetype": "text/x-python",
   "name": "python",
   "nbconvert_exporter": "python",
   "pygments_lexer": "ipython3",
   "version": "3.11.5"
  }
 },
 "nbformat": 4,
 "nbformat_minor": 5
}
